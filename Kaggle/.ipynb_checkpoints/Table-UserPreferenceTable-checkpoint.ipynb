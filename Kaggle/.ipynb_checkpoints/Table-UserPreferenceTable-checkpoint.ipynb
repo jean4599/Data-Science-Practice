{
 "cells": [
  {
   "cell_type": "code",
   "execution_count": 7,
   "metadata": {},
   "outputs": [],
   "source": [
    "import sys\n",
    "import numpy as np\n",
    "from sklearn.preprocessing import StandardScaler\n",
    "from sklearn.datasets import load_svmlight_file\n",
    "from sklearn.datasets import dump_svmlight_file\n",
    "from sklearn.cross_validation import train_test_split\n",
    "from sklearn import preprocessing\n",
    "from sklearn.metrics import accuracy_score\n",
    "from sklearn.metrics import precision_recall_fscore_support\n",
    "from sklearn.svm import SVC         \n",
    "from sklearn.linear_model import LinearRegression\n",
    "from sklearn.linear_model import Ridge\n",
    "import matplotlib.pylab as plt\n",
    "from sklearn.model_selection import GridSearchCV\n",
    "from pandas import DataFrame\n",
    "\n",
    "def loadTrainFile():\n",
    "    tmp = np.loadtxt(\"train.csv\", dtype=np.str, delimiter=\",\")\n",
    "    userID = tmp[1:,0].astype(int)\n",
    "    item1 = tmp[1:,1].astype(int)\n",
    "    item2 = tmp[1:,2].astype(int)\n",
    "    labels = tmp[1:,3].astype(int)\n",
    "    return userID, item1, item2, labels\n",
    "def loadTestFile():\n",
    "    tmp = np.loadtxt(\"test.csv\", dtype=np.str, delimiter=\",\")\n",
    "    userID = tmp[1:,0].astype(int)\n",
    "    item1 = tmp[1:,1].astype(int)\n",
    "    item2 = tmp[1:,2].astype(int)\n",
    "    return userID, item1, item2\n",
    "def loadUserFile():\n",
    "    tmp = np.loadtxt(\"users.csv\", dtype=str, delimiter=\",\")\n",
    "    return tmp[1:,1:]\n",
    "\n",
    "def loadItemFile():\n",
    "    tmp = np.loadtxt(\"items.csv\", dtype=np.str, delimiter=\",\")\n",
    "    return tmp[1:,1:]\n",
    "\n"
   ]
  },
  {
   "cell_type": "code",
   "execution_count": 8,
   "metadata": {},
   "outputs": [
    {
     "name": "stdout",
     "output_type": "stream",
     "text": [
      "[ 0.28547857 -0.51068041  0.74412371  0.23160031  0.25838267 -0.43736662\n",
      " -0.24168111 -0.31088901  0.18706724 -0.20603535]\n",
      "1364\n",
      "hit %:  0.9237536656891495\n",
      "equal:  21\n",
      "other:  83\n"
     ]
    },
    {
     "name": "stderr",
     "output_type": "stream",
     "text": [
      "/Users/jean/tensorflow/lib/python3.6/site-packages/sklearn/utils/validation.py:475: DataConversionWarning: Data with input dtype int64 was converted to float64 by the scale function.\n",
      "  warnings.warn(msg, DataConversionWarning)\n"
     ]
    }
   ],
   "source": [
    "########### Data ###########\n",
    "user_dic = loadUserFile()\n",
    "item_dic = loadItemFile()\n",
    "userID, item1, item2, labels = loadTrainFile()\n",
    "\n",
    "preference = np.zeros([len(user_dic),10], dtype=int)\n",
    "\n",
    "for idx, label in enumerate(labels):\n",
    "    if(label==0):\n",
    "        preference[userID[idx]-1][item1[idx]-1]+=1\n",
    "        preference[userID[idx]-1][item2[idx]-1]-=1\n",
    "    else:\n",
    "        preference[userID[idx]-1][item1[idx]-1]-=1\n",
    "        preference[userID[idx]-1][item2[idx]-1]+=1\n",
    "\n",
    "preference = preprocessing.scale(preference, axis=1, copy=False)\n",
    "all_people_preference = np.mean(preference, axis=0)\n",
    "print(all_people_preference)\n",
    "########### Data ###########\n",
    "hit = 0\n",
    "equal = 0\n",
    "other = 0\n",
    "for idx in range(userID.shape[0]):\n",
    "    entry = str(int(userID[idx]))+'-'+str(int(item1[idx]))+'-'+str(int(item2[idx]))\n",
    "    if(labels[idx]==0 and preference[userID[idx]-1][item1[idx]-1]>preference[userID[idx]-1][item2[idx]-1]):\n",
    "        hit+=1\n",
    "    elif(labels[idx]==1 and preference[userID[idx]-1][item1[idx]-1]<preference[userID[idx]-1][item2[idx]-1]):\n",
    "        hit+=1\n",
    "    elif(preference[userID[idx]-1][item1[idx]-1]==preference[userID[idx]-1][item2[idx]-1]):\n",
    "        if(labels[idx]==0 and all_people_preference[item1[idx]-1]>all_people_preference[item2[idx]-1]):\n",
    "            hit+=1\n",
    "        elif(labels[idx]==1 and all_people_preference[item1[idx]-1]<all_people_preference[item2[idx]-1]):\n",
    "            hit+=1\n",
    "        else:\n",
    "            equal+=1\n",
    "    else:\n",
    "        other+=1\n",
    "print(userID.shape[0])\n",
    "\n",
    "print(\"hit %: \" , hit/userID.shape[0])\n",
    "print(\"equal: \", equal)\n",
    "print(\"other: \", other)"
   ]
  },
  {
   "cell_type": "code",
   "execution_count": 13,
   "metadata": {},
   "outputs": [
    {
     "name": "stdout",
     "output_type": "stream",
     "text": [
      "########## Start Test ##########\n",
      "1312\n"
     ]
    }
   ],
   "source": [
    "########## Test ##########\n",
    "print(\"########## Start Test ##########\")\n",
    "\n",
    "userID, item1, item2 = loadTestFile()\n",
    "test_output=[['User-Item1-Item2','Preference']]\n",
    "for idx in range(userID.shape[0]):\n",
    "    entry = str(int(userID[idx]))+'-'+str(int(item1[idx]))+'-'+str(int(item2[idx]))\n",
    "    if(preference[userID[idx]-1][item1[idx]-1] >= preference[userID[idx]-1][item2[idx]-1]):\n",
    "        value=0\n",
    "#     elif(preference[userID[idx]-1][item1[idx]-1] == preference[userID[idx]-1][item2[idx]-1]):\n",
    "#         if(all_people_preference[item1[idx]-1]>all_people_preference[item2[idx]-1]):\n",
    "#             value=0\n",
    "#         elif(all_people_preference[item1[idx]-1]<all_people_preference[item2[idx]-1]):\n",
    "#             value=1\n",
    "#         else:\n",
    "#             value=0\n",
    "    else:\n",
    "        value=1\n",
    "    test_output.append([entry,value])\n",
    "print(len(test_output))\n",
    "np.savetxt(\"output.csv\", np.array(test_output, dtype=np.str), fmt='%s,%s', delimiter=\",\")\n"
   ]
  },
  {
   "cell_type": "code",
   "execution_count": null,
   "metadata": {},
   "outputs": [],
   "source": []
  },
  {
   "cell_type": "code",
   "execution_count": null,
   "metadata": {},
   "outputs": [],
   "source": []
  }
 ],
 "metadata": {
  "kernelspec": {
   "display_name": "my-virtualenv-tensorflow",
   "language": "python",
   "name": "my-virtualenv-tensorflow"
  },
  "language_info": {
   "codemirror_mode": {
    "name": "ipython",
    "version": 3
   },
   "file_extension": ".py",
   "mimetype": "text/x-python",
   "name": "python",
   "nbconvert_exporter": "python",
   "pygments_lexer": "ipython3",
   "version": "3.6.3"
  }
 },
 "nbformat": 4,
 "nbformat_minor": 2
}
