{
 "cells": [
  {
   "cell_type": "code",
   "execution_count": 3,
   "metadata": {},
   "outputs": [
    {
     "name": "stderr",
     "output_type": "stream",
     "text": [
      "/Users/jean/tensorflow/lib/python3.6/site-packages/sklearn/cross_validation.py:41: DeprecationWarning: This module was deprecated in version 0.18 in favor of the model_selection module into which all the refactored classes and functions are moved. Also note that the interface of the new CV iterators are different from that of this module. This module will be removed in 0.20.\n",
      "  \"This module will be removed in 0.20.\", DeprecationWarning)\n"
     ]
    }
   ],
   "source": [
    "import sys\n",
    "import numpy as np\n",
    "from sklearn.preprocessing import StandardScaler\n",
    "from sklearn.datasets import load_svmlight_file\n",
    "from sklearn.datasets import dump_svmlight_file\n",
    "from sklearn.cross_validation import train_test_split\n",
    "from sklearn import preprocessing\n",
    "from sklearn.metrics import accuracy_score\n",
    "from sklearn.metrics import precision_recall_fscore_support\n",
    "from sklearn.svm import SVC         \n",
    "from sklearn.linear_model import LinearRegression\n",
    "from sklearn.linear_model import Ridge\n",
    "import matplotlib.pylab as plt\n",
    "from sklearn.model_selection import GridSearchCV\n",
    "from pandas import DataFrame\n",
    "\n",
    "def loadTrainFile():\n",
    "    tmp = np.loadtxt(\"train.csv\", dtype=np.str, delimiter=\",\")\n",
    "    userID = tmp[1:,0].astype(int)\n",
    "    item1 = tmp[1:,1].astype(int)\n",
    "    item2 = tmp[1:,2].astype(int)\n",
    "    labels = tmp[1:,3].astype(int)\n",
    "    return userID, item1, item2, labels\n",
    "def loadTestFile():\n",
    "    tmp = np.loadtxt(\"test.csv\", dtype=np.str, delimiter=\",\")\n",
    "    userID = tmp[1:,0].astype(int)\n",
    "    item1 = tmp[1:,1].astype(int)\n",
    "    item2 = tmp[1:,2].astype(int)\n",
    "    return userID, item1, item2\n",
    "def loadUserFile():\n",
    "    tmp = np.loadtxt(\"users.csv\", dtype=str, delimiter=\",\")\n",
    "    return tmp[1:,1:]\n",
    "\n",
    "def loadItemFile():\n",
    "    tmp = np.loadtxt(\"items.csv\", dtype=np.str, delimiter=\",\")\n",
    "    return tmp[1:,1:]\n",
    "\n"
   ]
  },
  {
   "cell_type": "code",
   "execution_count": 56,
   "metadata": {},
   "outputs": [
    {
     "name": "stdout",
     "output_type": "stream",
     "text": [
      "hit %:  0.9222873900293255\n",
      "equal:  39\n",
      "other:  83\n"
     ]
    }
   ],
   "source": [
    "########### Data ###########\n",
    "user_dic = loadUserFile()\n",
    "item_dic = loadItemFile()\n",
    "userID, item1, item2, labels = loadTrainFile()\n",
    "\n",
    "user_car_preference = np.zeros([len(user_dic),10], dtype=int)\n",
    "\n",
    "for idx, label in enumerate(labels):\n",
    "    if(label==0):\n",
    "        user_car_preference[userID[idx]-1][item1[idx]-1]+=1\n",
    "        user_car_preference[userID[idx]-1][item2[idx]-1]-=1\n",
    "    else:\n",
    "        user_car_preference[userID[idx]-1][item1[idx]-1]-=1\n",
    "        user_car_preference[userID[idx]-1][item2[idx]-1]+=1\n",
    "\n",
    "#user_car_preference = preprocessing.scale(user_car_preference, axis=1, copy=False)\n",
    "user_carAttribute_preference = {}\n",
    "\n",
    "#initialize user_carAttribute_preference\n",
    "for user in range(len(user_dic)):\n",
    "    user_carAttribute_preference[user] = {0:{'1':0,'2':0}, 1:{'1':0, '2':0}, 2:{'2.5':0, '3.5':0, '4.5':0, '5.5':0, '6.2':0}, 3:{'1':0, '2':0}}\n",
    "\n",
    "for user, probabilities in enumerate(user_car_preference):\n",
    "#     print(probabilities)\n",
    "    for car, per_car_probability in enumerate(probabilities):\n",
    "        this_car_attributes = item_dic[car]\n",
    "#         print(this_car_attributes)\n",
    "        for attr_idx, attr in enumerate(this_car_attributes):\n",
    "#             print(attr)\n",
    "            user_carAttribute_preference[user][attr_idx][attr]+=user_car_preference[user][car]\n",
    "# print(user_carAttribute_preference)\n",
    "all_people_preference = np.mean(user_car_preference, axis=0)\n",
    "\n",
    "tmp = np.concatenate([user_dic, user_car_preference], axis=1)\n",
    "np.savetxt(\"userattr_carprob.csv\", np.array(tmp, dtype=np.str),fmt='%s', delimiter=\",\")\n",
    "\n",
    "def getItemPreferenceByAttribute(attributes, user_reference_table):\n",
    "    result = 0.0;\n",
    "    for idx, attr in enumerate(attributes):\n",
    "        result += user_reference_table[idx][attr]\n",
    "    return result\n",
    "########### Data ###########\n",
    "hit = 0\n",
    "equal = 0\n",
    "other = 0\n",
    "for idx in range(userID.shape[0]):\n",
    "    if(labels[idx]==0 and user_car_preference[userID[idx]-1][item1[idx]-1]>user_car_preference[userID[idx]-1][item2[idx]-1]):\n",
    "        hit+=1\n",
    "    elif(labels[idx]==1 and user_car_preference[userID[idx]-1][item1[idx]-1]<user_car_preference[userID[idx]-1][item2[idx]-1]):\n",
    "        hit+=1\n",
    "    elif(user_car_preference[userID[idx]-1][item1[idx]-1]==user_car_preference[userID[idx]-1][item2[idx]-1]):\n",
    "        equal+=1\n",
    "        item1_preference = getItemPreferenceByAttribute(item_dic[item1[idx]-1], user_carAttribute_preference[userID[idx]-1])\n",
    "        item2_preference = getItemPreferenceByAttribute(item_dic[item2[idx]-1], user_carAttribute_preference[userID[idx]-1])\n",
    "        if(labels[idx]==0 and item1_preference >= item2_preference):\n",
    "            hit+=1\n",
    "        elif(labels[idx]==1 and item1_preference < item2_preference):\n",
    "            hit+=1\n",
    "    else:\n",
    "        other+=1\n",
    "\n",
    "print(\"hit %: \" , hit/userID.shape[0])\n",
    "print(\"equal: \", equal)\n",
    "print(\"other: \", other)"
   ]
  },
  {
   "cell_type": "code",
   "execution_count": 51,
   "metadata": {},
   "outputs": [
    {
     "name": "stdout",
     "output_type": "stream",
     "text": [
      "########## Start Test ##########\n",
      "1312\n",
      "equal:  133\n",
      "other:  0\n"
     ]
    }
   ],
   "source": [
    "########## Test ##########\n",
    "print(\"########## Start Test ##########\")\n",
    "equal = 0\n",
    "other = 0\n",
    "\n",
    "userID, item1, item2 = loadTestFile()\n",
    "test_output=[['User-Item1-Item2','Preference']]\n",
    "# for idx in range(userID.shape[0]):\n",
    "#     entry = str(int(userID[idx]))+'-'+str(int(item1[idx]))+'-'+str(int(item2[idx]))\n",
    "#     if(user_car_preference[userID[idx]-1][item1[idx]-1]>user_car_preference[userID[idx]-1][item2[idx]-1]):\n",
    "#         value=0\n",
    "#     elif(user_car_preference[userID[idx]-1][item1[idx]-1]<user_car_preference[userID[idx]-1][item2[idx]-1]):\n",
    "#         value=1\n",
    "#     elif(user_car_preference[userID[idx]-1][item1[idx]-1]==user_car_preference[userID[idx]-1][item2[idx]-1]):\n",
    "#         item1_preference = getItemPreferenceByAttribute(item_dic[item1[idx]-1], user_carAttribute_preference[userID[idx]-1])\n",
    "#         item2_preference = getItemPreferenceByAttribute(item_dic[item2[idx]-1], user_carAttribute_preference[userID[idx]-1])\n",
    "#         if(item1_preference > item2_preference):\n",
    "#             value=1\n",
    "#         elif(item1_preference < item2_preference):\n",
    "#             value=0\n",
    "#         elif(item1_preference == item2_preference):\n",
    "#             equal+=1\n",
    "#             value=0\n",
    "#     test_output.append([entry,value])\n",
    "\n",
    "for idx in range(userID.shape[0]):\n",
    "    entry = str(int(userID[idx]))+'-'+str(int(item1[idx]))+'-'+str(int(item2[idx]))\n",
    "    item1_preference = getItemPreferenceByAttribute(item_dic[item1[idx]-1], user_carAttribute_preference[userID[idx]-1])\n",
    "    item2_preference = getItemPreferenceByAttribute(item_dic[item2[idx]-1], user_carAttribute_preference[userID[idx]-1])\n",
    "    if(item1_preference >= item2_preference):\n",
    "        if((item1_preference <= item2_preference)):\n",
    "            equal+=1\n",
    "        value=0\n",
    "    else:\n",
    "        value=1\n",
    "    test_output.append([entry,value])\n",
    "print(len(test_output))\n",
    "print(\"equal: \", equal)\n",
    "print(\"other: \", other)\n",
    "np.savetxt(\"output.csv\", np.array(test_output, dtype=np.str), fmt='%s,%s', delimiter=\",\")\n"
   ]
  },
  {
   "cell_type": "code",
   "execution_count": null,
   "metadata": {},
   "outputs": [],
   "source": []
  },
  {
   "cell_type": "code",
   "execution_count": null,
   "metadata": {},
   "outputs": [],
   "source": []
  }
 ],
 "metadata": {
  "kernelspec": {
   "display_name": "my-virtualenv-tensorflow",
   "language": "python",
   "name": "my-virtualenv-tensorflow"
  },
  "language_info": {
   "codemirror_mode": {
    "name": "ipython",
    "version": 3
   },
   "file_extension": ".py",
   "mimetype": "text/x-python",
   "name": "python",
   "nbconvert_exporter": "python",
   "pygments_lexer": "ipython3",
   "version": "3.6.3"
  }
 },
 "nbformat": 4,
 "nbformat_minor": 2
}
