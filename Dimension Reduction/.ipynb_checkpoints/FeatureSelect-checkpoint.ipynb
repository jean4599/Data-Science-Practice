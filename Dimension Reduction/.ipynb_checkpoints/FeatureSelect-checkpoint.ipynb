{
 "cells": [
  {
   "cell_type": "markdown",
   "metadata": {},
   "source": [
    "# <center> Feature Selection </center>\n",
    "- linear SVM\n",
    "- Random Foreast\n",
    "- [RFE](http://scikit-learn.org/stable/modules/generated/sklearn.feature_selection.RFE.html#sklearn.feature_selection.RFE)  (Recursive feature elimination)\n",
    "   > Given an external estimator that assigns weights to features (e.g., the coefficients of a linear model), recursive feature elimination (RFE) is to select features by recursively considering smaller and smaller sets of features\n",
    "- [PCA](http://scikit-learn.org/stable/modules/generated/sklearn.decomposition.PCA.html) (Principal component analysis)\n",
    "\n",
    "## prepocessing"
   ]
  },
  {
   "cell_type": "markdown",
   "metadata": {},
   "source": [
    "## breast cancer dataset"
   ]
  },
  {
   "cell_type": "code",
   "execution_count": 1,
   "metadata": {},
   "outputs": [
    {
     "name": "stderr",
     "output_type": "stream",
     "text": [
      "C:\\Users\\USER\\Anaconda3\\lib\\site-packages\\sklearn\\cross_validation.py:41: DeprecationWarning: This module was deprecated in version 0.18 in favor of the model_selection module into which all the refactored classes and functions are moved. Also note that the interface of the new CV iterators are different from that of this module. This module will be removed in 0.20.\n",
      "  \"This module will be removed in 0.20.\", DeprecationWarning)\n"
     ]
    }
   ],
   "source": [
    "from sklearn import datasets\n",
    "from sklearn.model_selection import train_test_split\n",
    "from sklearn.cross_validation import cross_val_score\n",
    "from sklearn.preprocessing import StandardScaler\n",
    "from sklearn.metrics import accuracy_score\n",
    "import numpy as np\n",
    "\n",
    "iris = datasets.load_breast_cancer()\n",
    "X = iris.data[:, :]\n",
    "y = iris.target\n",
    "\n",
    "X_train, X_test, Y_train, Y_test = train_test_split(X, y, test_size=0.3, random_state=0)\n",
    "\n",
    "#特徵縮放\n",
    "sc = StandardScaler()\n",
    "sc.fit(X_train)\n",
    "X_train_std = sc.transform(X_train)\n",
    "X_test_std = sc.transform(X_test)"
   ]
  },
  {
   "cell_type": "code",
   "execution_count": 3,
   "metadata": {},
   "outputs": [
    {
     "name": "stdout",
     "output_type": "stream",
     "text": [
      "Accuracy: 0.96\n",
      " 1) 19                             1.014021\n",
      " 2) 29                             0.995842\n",
      " 3) 10                             0.961654\n",
      " 4) 13                             0.861049\n",
      " 5) 23                             0.786111\n",
      " 6) 15                             0.718461\n",
      " 7) 12                             0.709576\n",
      " 8) 26                             0.681310\n",
      " 9) 21                             0.664996\n",
      "10) 20                             0.547090\n",
      "11) 22                             0.501465\n",
      "12) 27                             0.479518\n",
      "13) 17                             0.421920\n",
      "14) 8                              0.411808\n",
      "15) 11                             0.344699\n",
      "16) 6                              0.335487\n",
      "17) 7                              0.334262\n",
      "18) 25                             0.331577\n",
      "19) 16                             0.286189\n",
      "20) 14                             0.258193\n",
      "21) 5                              0.252170\n",
      "22) 1                              0.251975\n",
      "23) 3                              0.240924\n",
      "24) 24                             0.220979\n",
      "25) 28                             0.167754\n",
      "26) 2                              0.167666\n",
      "27) 18                             0.166736\n",
      "28) 4                              0.113876\n",
      "29) 0                              0.104386\n",
      "30) 9                              0.098418\n"
     ]
    }
   ],
   "source": [
    "from sklearn.svm import SVC\n",
    "from numpy import stack\n",
    "\n",
    "linear_svm = SVC(kernel='linear') \n",
    "linear_svm.fit(X_train_std,Y_train)\n",
    "y_pred = linear_svm.predict(X_test_std)\n",
    "print(\"Accuracy: %.2f\" % accuracy_score(Y_test,y_pred))\n",
    "\n",
    "coef = linear_svm.coef_[0]\n",
    "coef = np.absolute(coef)\n",
    "svm_indices = np.argsort(coef)[::-1]\n",
    "\n",
    "for f in range(X_train.shape[1]):\n",
    "    print((\"%2d) %-*s %f\" % (f+1,30,svm_indices[f],coef[svm_indices[f]])))"
   ]
  },
  {
   "cell_type": "code",
   "execution_count": 4,
   "metadata": {},
   "outputs": [
    {
     "name": "stdout",
     "output_type": "stream",
     "text": [
      "Accuracy(After): 0.94\n"
     ]
    }
   ],
   "source": [
    "# compare (前 5 個feature)\n",
    "X_train_RD = np.array(X_train_std[:,svm_indices[0]])\n",
    "X_test_RD = np.array(X_test_std[:,svm_indices[0]])\n",
    "\n",
    "linear_svm_select = SVC(kernel='linear')\n",
    "for i in svm_indices[1:10]:\n",
    "    X_train_RD = np.vstack([X_train_RD,X_train_std[:,i]]) \n",
    "    X_test_RD = np.vstack([X_test_RD,X_test_std[:,i]])\n",
    "    \n",
    "X_train_RD = X_train_RD.T\n",
    "X_test_RD = X_test_RD.T\n",
    "linear_svm_select.fit(X_train_RD,Y_train)\n",
    "y_pred = linear_svm_select.predict(X_test_RD)\n",
    "\n",
    "print(\"Accuracy(After): %.2f\" % accuracy_score(Y_test,y_pred))\n"
   ]
  },
  {
   "cell_type": "markdown",
   "metadata": {},
   "source": [
    "## Wine"
   ]
  },
  {
   "cell_type": "code",
   "execution_count": 60,
   "metadata": {},
   "outputs": [
    {
     "name": "stdout",
     "output_type": "stream",
     "text": [
      "[1 2]\n"
     ]
    }
   ],
   "source": [
    "import matplotlib.pylab as plt\n",
    "from sklearn.cross_validation import train_test_split\n",
    "from sklearn.cross_validation import cross_val_score\n",
    "from sklearn.preprocessing import StandardScaler\n",
    "import pandas as pd\n",
    "import numpy as np\n",
    "\n",
    "wine = pd.read_csv('wine.csv',header = None)\n",
    "feat_labels = ['Class Label','Alcohol','Malic acid','Ash','Alcalinity of ash','Magnesium','Total phenols','Flavanoids',\n",
    "               'Nonflavanoid phenols','Proanthocyanins','Color intensity','Hue','OD280/OD315 of diluted wines','Proline']\n",
    "\n",
    "wine.columns = feat_labels\n",
    "labels_name = feat_labels[1:]\n",
    "\n",
    "# print wine.head()\n",
    "print(np.unique(wine['Class Label']))\n",
    "\n",
    "y = wine.iloc[:,0]\n",
    "x = wine.iloc[:,1::]\n",
    "\n",
    "X_train, X_test, Y_train, Y_test = train_test_split(x, y, test_size=0.3, random_state=0)\n",
    "\n",
    "#特徵縮放\n",
    "sc = StandardScaler()\n",
    "sc.fit(X_train)\n",
    "x_std = sc.transform(x)\n",
    "X_train_std = sc.transform(X_train)\n",
    "X_test_std = sc.transform(X_test)"
   ]
  },
  {
   "cell_type": "markdown",
   "metadata": {},
   "source": [
    "## linear SVM"
   ]
  },
  {
   "cell_type": "code",
   "execution_count": 61,
   "metadata": {},
   "outputs": [
    {
     "name": "stdout",
     "output_type": "stream",
     "text": [
      "Accuracy: 0.95\n",
      " 1) Proline                        0.919534\n",
      " 2) Alcohol                        0.905591\n",
      " 3) Alcalinity of ash              0.524910\n",
      " 4) Proanthocyanins                0.518454\n",
      " 5) Ash                            0.398836\n",
      " 6) Magnesium                      0.335927\n",
      " 7) Flavanoids                     0.324428\n",
      " 8) OD280/OD315 of diluted wines   0.221005\n",
      " 9) Malic acid                     0.207241\n",
      "10) Hue                            0.180858\n",
      "11) Color intensity                0.140022\n",
      "12) Total phenols                  0.121156\n",
      "13) Nonflavanoid phenols           0.045654\n"
     ]
    }
   ],
   "source": [
    "from sklearn.svm import SVC\n",
    "from numpy import stack\n",
    "from sklearn.metrics import accuracy_score\n",
    "\n",
    "linear_svm = SVC(kernel='linear') \n",
    "linear_svm.fit(X_train_std,Y_train)\n",
    "y_pred = linear_svm.predict(X_test_std)\n",
    "print(\"Accuracy: %.2f\" % accuracy_score(Y_test,y_pred))\n",
    "\n",
    "coef = linear_svm.coef_[0]\n",
    "coef = np.absolute(coef)\n",
    "svm_indices = np.argsort(coef)[::-1]\n",
    "\n",
    "for f in range(X_train.shape[1]):\n",
    "    print((\"%2d) %-*s %f\" % (f+1,30,labels_name[svm_indices[f]],coef[svm_indices[f]])))"
   ]
  },
  {
   "cell_type": "code",
   "execution_count": 62,
   "metadata": {},
   "outputs": [
    {
     "data": {
      "text/plain": [
       "array([12,  0,  3,  8,  2,  4,  6, 11,  1, 10,  9,  5,  7], dtype=int64)"
      ]
     },
     "execution_count": 62,
     "metadata": {},
     "output_type": "execute_result"
    }
   ],
   "source": [
    "svm_indices"
   ]
  },
  {
   "cell_type": "code",
   "execution_count": 63,
   "metadata": {},
   "outputs": [
    {
     "name": "stdout",
     "output_type": "stream",
     "text": [
      "0\n",
      "3\n",
      "8\n",
      "2\n",
      "Accuracy(After): 0.97\n"
     ]
    }
   ],
   "source": [
    "# compare (前 5 個feature)\n",
    "X_train_RD = np.array(X_train_std[:,svm_indices[0]])\n",
    "X_test_RD = np.array(X_test_std[:,svm_indices[0]])\n",
    "\n",
    "linear_svm_select = SVC(kernel='linear')\n",
    "for i in svm_indices[1:5]:\n",
    "    X_train_RD = np.vstack([X_train_RD,X_train_std[:,i]]) \n",
    "    X_test_RD = np.vstack([X_test_RD,X_test_std[:,i]])\n",
    "    print(i)\n",
    "    \n",
    "X_train_RD = X_train_RD.T\n",
    "X_test_RD = X_test_RD.T\n",
    "linear_svm_select.fit(X_train_RD,Y_train)\n",
    "y_pred = linear_svm_select.predict(X_test_RD)\n",
    "\n",
    "print(\"Accuracy(After): %.2f\" % accuracy_score(Y_test,y_pred))"
   ]
  },
  {
   "cell_type": "code",
   "execution_count": 64,
   "metadata": {},
   "outputs": [
    {
     "name": "stdout",
     "output_type": "stream",
     "text": [
      "Accuracy(After): 0.87\n"
     ]
    }
   ],
   "source": [
    "# compare (6~10個feature)\n",
    "X_train_RD = np.array(X_train_std[:,svm_indices[5]])\n",
    "X_test_RD = np.array(X_test_std[:,svm_indices[5]])\n",
    "\n",
    "linear_svm_select = SVC(kernel='linear')\n",
    "for i in svm_indices[6:10]:\n",
    "    X_train_RD = np.vstack([X_train_RD,X_train_std[:,i]]) \n",
    "    X_test_RD = np.vstack([X_test_RD,X_test_std[:,i]]) \n",
    "    \n",
    "X_train_RD = X_train_RD.T\n",
    "X_test_RD = X_test_RD.T\n",
    "linear_svm_select.fit(X_train_RD,Y_train)\n",
    "y_pred = linear_svm_select.predict(X_test_RD)\n",
    "\n",
    "print(\"Accuracy(After): %.2f\" % accuracy_score(Y_test,y_pred))"
   ]
  },
  {
   "cell_type": "markdown",
   "metadata": {},
   "source": [
    "## Random Foreast"
   ]
  },
  {
   "cell_type": "code",
   "execution_count": 65,
   "metadata": {},
   "outputs": [
    {
     "name": "stdout",
     "output_type": "stream",
     "text": [
      "Accuracy: 0.97\n",
      " 1) Proline                        0.301492\n",
      " 2) Alcohol                        0.235568\n",
      " 3) Color intensity                0.131030\n",
      " 4) Flavanoids                     0.107489\n",
      " 5) Magnesium                      0.075796\n",
      " 6) Total phenols                  0.038733\n",
      " 7) Alcalinity of ash              0.037979\n",
      " 8) OD280/OD315 of diluted wines   0.022443\n",
      " 9) Malic acid                     0.014366\n",
      "10) Nonflavanoid phenols           0.013879\n",
      "11) Ash                            0.007612\n",
      "12) Proanthocyanins                0.007053\n",
      "13) Hue                            0.006561\n"
     ]
    }
   ],
   "source": [
    "from sklearn.ensemble import RandomForestClassifier\n",
    "from numpy import stack\n",
    "from sklearn.metrics import accuracy_score\n",
    "\n",
    "forest = RandomForestClassifier(criterion='entropy',\n",
    "                                n_estimators=100, \n",
    "                                random_state=1,\n",
    "                                n_jobs=2)\n",
    "forest.fit(X_train,Y_train)\n",
    "y_pred = forest.predict(X_test)\n",
    "print(\"Accuracy: %.2f\" % accuracy_score(Y_test,y_pred))\n",
    "\n",
    "importances = forest.feature_importances_\n",
    "\n",
    "indices = np.argsort(importances)[::-1]\n",
    "for f in range(X_train.shape[1]):\n",
    "    print((\"%2d) %-*s %f\" % (f+1,30,labels_name[indices[f]],importances[indices[f]])))"
   ]
  },
  {
   "cell_type": "code",
   "execution_count": 66,
   "metadata": {},
   "outputs": [
    {
     "name": "stdout",
     "output_type": "stream",
     "text": [
      "Accuracy(After): 0.97\n"
     ]
    }
   ],
   "source": [
    "X_train_RD = np.array(X_train.iloc[:,indices[0]])\n",
    "X_test_RD = np.array(X_test.iloc[:,indices[0]])\n",
    "\n",
    "forest_select = RandomForestClassifier(criterion='entropy',\n",
    "                                        n_estimators=100, \n",
    "                                        random_state=1,\n",
    "                                        n_jobs=2)\n",
    "for i in indices[1:5]:\n",
    "    X_train_RD = np.vstack([X_train_RD,X_train.iloc[:,i]]) \n",
    "    X_test_RD = np.vstack([X_test_RD,X_test.iloc[:,i]]) \n",
    "    \n",
    "X_train_RD = X_train_RD.T\n",
    "X_test_RD = X_test_RD.T\n",
    "\n",
    "forest_select.fit(X_train_RD,Y_train)\n",
    "y_pred = forest_select.predict(X_test_RD)\n",
    "\n",
    "print(\"Accuracy(After): %.2f\" % accuracy_score(Y_test,y_pred))"
   ]
  },
  {
   "cell_type": "markdown",
   "metadata": {},
   "source": [
    "## RFE"
   ]
  },
  {
   "cell_type": "code",
   "execution_count": 67,
   "metadata": {},
   "outputs": [
    {
     "name": "stdout",
     "output_type": "stream",
     "text": [
      "Accuracy: 0.95\n",
      "[ True False  True  True False False False False False False False  True\n",
      "  True]\n",
      "[1 5 1 1 4 6 3 9 2 8 7 1 1]\n",
      "1.0\n",
      " 1) Alcohol                        \n",
      " 2) Ash                            \n",
      " 3) Alcalinity of ash              \n",
      " 4) OD280/OD315 of diluted wines   \n",
      " 5) Proline                        \n",
      " 6) Proanthocyanins                \n",
      " 7) Flavanoids                     \n",
      " 8) Magnesium                      \n",
      " 9) Malic acid                     \n",
      "10) Total phenols                  \n",
      "11) Hue                            \n",
      "12) Color intensity                \n",
      "13) Nonflavanoid phenols           \n"
     ]
    }
   ],
   "source": [
    "from sklearn.feature_selection import RFE\n",
    "from numpy import stack\n",
    "from sklearn.svm import SVC\n",
    "from sklearn.metrics import accuracy_score\n",
    "\n",
    "linear_svm = SVC(kernel='linear')\n",
    "linear_svm.fit(X_train_std,Y_train)\n",
    "y_pred = linear_svm.predict(X_test_std)\n",
    "print(\"Accuracy: %.2f\" % accuracy_score(Y_test,y_pred))\n",
    "\n",
    "rfe = RFE(linear_svm,5)\n",
    "rfe = rfe.fit(X_train_std,Y_train)\n",
    "\n",
    "support = rfe.support_\n",
    "print(support)\n",
    "rank = rfe.ranking_\n",
    "print(rank)\n",
    "print(rfe.score(X_train_std,Y_train))\n",
    "RFE_index = np.argsort(rank)\n",
    "\n",
    "for f in range(len(RFE_index)):\n",
    "    print((\"%2d) %-*s \" % (f+1,30,labels_name[RFE_index[f]])))"
   ]
  },
  {
   "cell_type": "code",
   "execution_count": 68,
   "metadata": {},
   "outputs": [
    {
     "name": "stdout",
     "output_type": "stream",
     "text": [
      "Accuracy(After): 1.00\n"
     ]
    }
   ],
   "source": [
    "X_train_RD = np.array(X_train_std[:,RFE_index[0]])\n",
    "X_test_RD = np.array(X_test_std[:,RFE_index[0]])\n",
    "\n",
    "linear_svm_select = SVC(kernel='linear') \n",
    "for i in RFE_index[1:5]:\n",
    "    X_train_RD = np.vstack([X_train_RD,X_train_std[:,i]]) \n",
    "    X_test_RD = np.vstack([X_test_RD,X_test_std[:,i]]) \n",
    "    \n",
    "X_train_RD = X_train_RD.T\n",
    "X_test_RD = X_test_RD.T\n",
    "linear_svm_select.fit(X_train_RD,Y_train)\n",
    "y_pred = linear_svm_select.predict(X_test_RD)\n",
    "\n",
    "print(\"Accuracy(After): %.2f\" % accuracy_score(Y_test,y_pred))"
   ]
  },
  {
   "cell_type": "code",
   "execution_count": 69,
   "metadata": {},
   "outputs": [
    {
     "name": "stdout",
     "output_type": "stream",
     "text": [
      "Accuracy(After): 0.85\n"
     ]
    }
   ],
   "source": [
    "# compare (6~10個feature)\n",
    "X_train_RD = np.array(X_train_std[:,RFE_index[5]])\n",
    "X_test_RD = np.array(X_test_std[:,RFE_index[5]])\n",
    "\n",
    "linear_svm_select = SVC(kernel='linear')\n",
    "for i in RFE_index[6:10]:\n",
    "    X_train_RD = np.vstack([X_train_RD,X_train_std[:,i]]) \n",
    "    X_test_RD = np.vstack([X_test_RD,X_test_std[:,i]]) \n",
    "    \n",
    "X_train_RD = X_train_RD.T\n",
    "X_test_RD = X_test_RD.T\n",
    "linear_svm_select.fit(X_train_RD,Y_train)\n",
    "y_pred = linear_svm_select.predict(X_test_RD)\n",
    "\n",
    "print(\"Accuracy(After): %.2f\" % accuracy_score(Y_test,y_pred))"
   ]
  },
  {
   "cell_type": "markdown",
   "metadata": {},
   "source": [
    "### SelectKBest + chi2"
   ]
  },
  {
   "cell_type": "code",
   "execution_count": 70,
   "metadata": {},
   "outputs": [
    {
     "name": "stdout",
     "output_type": "stream",
     "text": [
      "[  3.82683075e+00   1.54932237e-03   3.21322585e-01   1.48885301e+01\n",
      "   3.80963643e+01   2.98310312e+00   7.15402663e+00   4.81713889e-01\n",
      "   4.90092925e-01   3.41729739e+01   2.05190731e-03   1.11577632e+00\n",
      "   9.99649945e+03]\n",
      "[False False False  True  True False  True False False  True False False\n",
      "  True]\n",
      "[12  9  6  4  3 11 10  8  7  5  2  1  0]\n",
      " 1) Proline                        \n",
      " 2) Color intensity                \n",
      " 3) Flavanoids                     \n",
      " 4) Magnesium                      \n",
      " 5) Alcalinity of ash              \n",
      " 6) OD280/OD315 of diluted wines   \n",
      " 7) Hue                            \n",
      " 8) Proanthocyanins                \n",
      " 9) Nonflavanoid phenols           \n",
      "10) Total phenols                  \n",
      "11) Ash                            \n",
      "12) Malic acid                     \n",
      "13) Alcohol                        \n"
     ]
    }
   ],
   "source": [
    "from sklearn.feature_selection import SelectKBest ,chi2\n",
    "#根據chi2檢測，找到前K個跟label最相關的features\n",
    "X_best = SelectKBest(chi2, k=5).fit(X_train, Y_train)\n",
    "scores = X_best.scores_\n",
    "support = X_best.get_support()\n",
    "chi2_index = np.argsort(support)[::-1]\n",
    "print(scores)\n",
    "print(support)\n",
    "print(chi2_index)\n",
    "for f in range(len(chi2_index)):\n",
    "    print((\"%2d) %-*s \" % (f+1,30,labels_name[chi2_index[f]])))"
   ]
  },
  {
   "cell_type": "code",
   "execution_count": 71,
   "metadata": {},
   "outputs": [
    {
     "name": "stdout",
     "output_type": "stream",
     "text": [
      "Accuracy(After): 0.95\n"
     ]
    }
   ],
   "source": [
    "X_train_RD = np.array(X_train_std[:,chi2_index[0]])\n",
    "X_test_RD = np.array(X_test_std[:,chi2_index[0]])\n",
    "\n",
    "linear_svm_select = SVC(kernel='linear')\n",
    "for i in chi2_index[1:5]:\n",
    "    X_train_RD = np.vstack([X_train_RD,X_train_std[:,i]]) \n",
    "    X_test_RD = np.vstack([X_test_RD,X_test_std[:,i]]) \n",
    "    \n",
    "X_train_RD = X_train_RD.T\n",
    "X_test_RD = X_test_RD.T\n",
    "linear_svm_select.fit(X_train_RD,Y_train)\n",
    "y_pred = linear_svm_select.predict(X_test_RD)\n",
    "\n",
    "print(\"Accuracy(After): %.2f\" % accuracy_score(Y_test,y_pred))"
   ]
  },
  {
   "cell_type": "markdown",
   "metadata": {},
   "source": [
    "### VarianceThreshold"
   ]
  },
  {
   "cell_type": "code",
   "execution_count": 72,
   "metadata": {},
   "outputs": [
    {
     "name": "stdout",
     "output_type": "stream",
     "text": [
      "Accuracy: 0.95\n"
     ]
    }
   ],
   "source": [
    "linear_svm = SVC(kernel='linear')\n",
    "linear_svm.fit(X_train_std,Y_train)\n",
    "y_pred = linear_svm.predict(X_test_std)\n",
    "print(\"Accuracy: %.2f\" % accuracy_score(Y_test,y_pred))"
   ]
  },
  {
   "cell_type": "code",
   "execution_count": 73,
   "metadata": {},
   "outputs": [
    {
     "name": "stdout",
     "output_type": "stream",
     "text": [
      "[  7.71953967e-01   9.33713078e-01   7.31078614e-02   1.00959763e+01\n",
      "   2.20444149e+02   2.79795604e-01   4.45461369e-01   1.13174737e-02\n",
      "   2.69294650e-01   2.71953250e+00   3.26502548e-02   2.04818669e-01\n",
      "   1.22643692e+05]\n",
      "[False  True False  True  True False False False False  True False False\n",
      "  True]\n",
      " 1) Proline                        \n",
      " 2) Color intensity                \n",
      " 3) Magnesium                      \n",
      " 4) Alcalinity of ash              \n",
      " 5) Malic acid                     \n",
      " 6) OD280/OD315 of diluted wines   \n",
      " 7) Hue                            \n",
      " 8) Proanthocyanins                \n",
      " 9) Nonflavanoid phenols           \n",
      "10) Flavanoids                     \n",
      "11) Total phenols                  \n",
      "12) Ash                            \n",
      "13) Alcohol                        \n"
     ]
    }
   ],
   "source": [
    "from sklearn.feature_selection import VarianceThreshold\n",
    "sel = VarianceThreshold(threshold=.9)\n",
    "X_sel=sel.fit(X_train)\n",
    "variances = X_sel.variances_\n",
    "print(variances)\n",
    "support = X_sel.get_support()\n",
    "print(support)\n",
    "variance_index = np.argsort(support)[::-1]\n",
    "for f in range(len(variance_index)):\n",
    "    print((\"%2d) %-*s \" % (f+1,30,labels_name[variance_index[f]])))"
   ]
  },
  {
   "cell_type": "code",
   "execution_count": 74,
   "metadata": {},
   "outputs": [
    {
     "name": "stdout",
     "output_type": "stream",
     "text": [
      "Accuracy(After): 0.97\n"
     ]
    }
   ],
   "source": [
    "X_train_RD = np.array(X_train_std[:,variance_index[0]])\n",
    "X_test_RD = np.array(X_test_std[:,variance_index[0]])\n",
    "\n",
    "linear_svm_select = SVC(kernel='linear')\n",
    "for i in variance_index[1:5]:\n",
    "    X_train_RD = np.vstack([X_train_RD,X_train_std[:,i]]) \n",
    "    X_test_RD = np.vstack([X_test_RD,X_test_std[:,i]]) \n",
    "    \n",
    "X_train_RD = X_train_RD.T\n",
    "X_test_RD = X_test_RD.T\n",
    "linear_svm_select.fit(X_train_RD,Y_train)\n",
    "y_pred = linear_svm_select.predict(X_test_RD)\n",
    "\n",
    "print(\"Accuracy(After): %.2f\" % accuracy_score(Y_test,y_pred))"
   ]
  },
  {
   "cell_type": "code",
   "execution_count": 75,
   "metadata": {},
   "outputs": [
    {
     "name": "stdout",
     "output_type": "stream",
     "text": [
      "Accuracy(After): 0.82\n"
     ]
    }
   ],
   "source": [
    "X_train_RD = np.array(X_train_std[:,variance_index[5]])\n",
    "X_test_RD = np.array(X_test_std[:,variance_index[5]])\n",
    "\n",
    "linear_svm_select = SVC(kernel='linear')\n",
    "for i in variance_index[6:10]:\n",
    "    X_train_RD = np.vstack([X_train_RD,X_train_std[:,i]]) \n",
    "    X_test_RD = np.vstack([X_test_RD,X_test_std[:,i]]) \n",
    "    \n",
    "X_train_RD = X_train_RD.T\n",
    "X_test_RD = X_test_RD.T\n",
    "linear_svm_select.fit(X_train_RD,Y_train)\n",
    "y_pred = linear_svm_select.predict(X_test_RD)\n",
    "\n",
    "print(\"Accuracy(After): %.2f\" % accuracy_score(Y_test,y_pred))"
   ]
  },
  {
   "cell_type": "markdown",
   "metadata": {},
   "source": [
    "## PCA"
   ]
  },
  {
   "cell_type": "code",
   "execution_count": 76,
   "metadata": {},
   "outputs": [
    {
     "name": "stdout",
     "output_type": "stream",
     "text": [
      "Accuracy: 0.95\n"
     ]
    }
   ],
   "source": [
    "from sklearn import decomposition\n",
    "from sklearn.svm import SVC\n",
    "from numpy import stack\n",
    "from sklearn.metrics import accuracy_score\n",
    "\n",
    "linear_svm = SVC(kernel='linear')\n",
    "linear_svm.fit(X_train_std,Y_train)\n",
    "y_pred = linear_svm.predict(X_test_std)\n",
    "print(\"Accuracy: %.2f\" % accuracy_score(Y_test,y_pred))"
   ]
  },
  {
   "cell_type": "code",
   "execution_count": 86,
   "metadata": {},
   "outputs": [
    {
     "name": "stdout",
     "output_type": "stream",
     "text": [
      "Accuracy(After): 0.97\n"
     ]
    }
   ],
   "source": [
    "pca = decomposition.PCA(n_components=5)\n",
    "pca.fit(x_std)\n",
    "pca_x = pca.transform(x_std)\n",
    "\n",
    "pcaX_train, pcaX_test, pcaY_train, pcaY_test = train_test_split(pca_x, y, test_size=0.3, random_state=0)\n",
    "\n",
    "svm = SVC(kernel='linear')\n",
    "svm.fit(pcaX_train,pcaY_train)\n",
    "y_pred = svm.predict(pcaX_test)\n",
    "\n",
    "print(\"Accuracy(After): %.2f\" % accuracy_score(pcaY_test,y_pred))"
   ]
  },
  {
   "cell_type": "markdown",
   "metadata": {},
   "source": [
    "## PCA 應用"
   ]
  },
  {
   "cell_type": "code",
   "execution_count": 87,
   "metadata": {},
   "outputs": [
    {
     "name": "stdout",
     "output_type": "stream",
     "text": [
      "(150, 4)\n"
     ]
    },
    {
     "data": {
      "image/png": "[encoded data removed]",
      "text/plain": [
       "<matplotlib.figure.Figure at 0x188c79a0358>"
      ]
     },
     "metadata": {},
     "output_type": "display_data"
    }
   ],
   "source": [
    "import numpy as np\n",
    "import matplotlib.pyplot as plt\n",
    "from mpl_toolkits.mplot3d import Axes3D\n",
    "\n",
    "\n",
    "from sklearn import decomposition\n",
    "from sklearn import datasets\n",
    "\n",
    "np.random.seed(5)\n",
    "\n",
    "centers = [[1, 1], [-1, -1], [1, -1]]\n",
    "iris = datasets.load_iris()\n",
    "X = iris.data\n",
    "y = iris.target\n",
    "\n",
    "print(X.shape)\n",
    "\n",
    "fig = plt.figure(1, figsize=(4, 3))\n",
    "plt.clf()\n",
    "ax = Axes3D(fig, rect=[0, 0, .95, 1], elev=48, azim=134)\n",
    "\n",
    "plt.cla()\n",
    "pca = decomposition.PCA(n_components=3)\n",
    "pca.fit(X)\n",
    "X = pca.transform(X)\n",
    "\n",
    "for name, label in [('Setosa', 0), ('Versicolour', 1), ('Virginica', 2)]:\n",
    "    ax.text3D(X[y == label, 0].mean(),\n",
    "              X[y == label, 1].mean() + 1.5,\n",
    "              X[y == label, 2].mean(), name,\n",
    "              horizontalalignment='center',\n",
    "              bbox=dict(alpha=.5, edgecolor='w', facecolor='w'))\n",
    "# Reorder the labels to have colors matching the cluster results\n",
    "y = np.choose(y, [1, 2, 0]).astype(np.float)\n",
    "ax.scatter(X[:, 0], X[:, 1], X[:, 2], c=y, cmap=plt.cm.nipy_spectral)\n",
    "\n",
    "ax.w_xaxis.set_ticklabels([])\n",
    "ax.w_yaxis.set_ticklabels([])\n",
    "ax.w_zaxis.set_ticklabels([])\n",
    "\n",
    "plt.show()"
   ]
  },
  {
   "cell_type": "code",
   "execution_count": null,
   "metadata": {},
   "outputs": [],
   "source": []
  }
 ],
 "metadata": {
  "anaconda-cloud": {},
  "kernelspec": {
   "display_name": "Python 3",
   "language": "python",
   "name": "python3"
  },
  "language_info": {
   "codemirror_mode": {
    "name": "ipython",
    "version": 3
   },
   "file_extension": ".py",
   "mimetype": "text/x-python",
   "name": "python",
   "nbconvert_exporter": "python",
   "pygments_lexer": "ipython3",
   "version": "3.6.3"
  }
 },
 "nbformat": 4,
 "nbformat_minor": 1
}
